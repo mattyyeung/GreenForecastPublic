{
 "cells": [
  {
   "cell_type": "markdown",
   "id": "4ab62271-08ae-4c3f-af99-4e3d9c70c4f8",
   "metadata": {},
   "source": [
    "# Test functions for forecaster.py"
   ]
  },
  {
   "cell_type": "code",
   "execution_count": null,
   "id": "70c239be-6d56-4dfb-b19e-d18b90b4a7d3",
   "metadata": {},
   "outputs": [],
   "source": [
    "\n",
    "import json\n",
    "import pandas as pd\n",
    "import numpy as np\n",
    "import pathlib\n",
    "import boto3\n",
    "from pathlib import Path\n",
    "import os\n",
    "import subprocess\n",
    "import io\n",
    "import pickle\n",
    "import matplotlib as plt\n",
    "import importlib\n",
    "import logging \n",
    "import requests\n",
    "\n",
    "plt.rcParams[\"figure.figsize\"] = (16,10)\n",
    "REGIONIDS = ['NSW1', 'QLD1', 'SA1', 'TAS1', 'VIC1']\n"
   ]
  },
  {
   "cell_type": "code",
   "execution_count": null,
   "id": "84d37dba-b355-4b28-8ce6-950ea78fddf4",
   "metadata": {},
   "outputs": [],
   "source": [
    "%load_ext autoreload\n",
    "%autoreload 2\n",
    "import forecaster\n",
    "import get_features\n",
    "import get_greenness\n",
    "import aemo\n",
    "if importlib.util.find_spec('xgboost') is not None: \n",
    "    import inference\n",
    "else:\n",
    "    logging.info(\"Running with mock inference because xgboost library not present. Results will be random; won't be saved to S3.\")\n",
    "    import mock_inference as inference  # use for testing to skip inference\n"
   ]
  },
  {
   "cell_type": "markdown",
   "id": "d5adce61-cccc-4921-9bb8-6570777dcbc3",
   "metadata": {},
   "source": [
    "### Run the whole forecaster"
   ]
  },
  {
   "cell_type": "code",
   "execution_count": null,
   "id": "4a80f238-47b6-427b-8532-41297bc39c94",
   "metadata": {
    "tags": []
   },
   "outputs": [],
   "source": [
    "a = forecaster.main()"
   ]
  },
  {
   "cell_type": "markdown",
   "id": "974a294c-3f2d-48a1-887e-2b3d328f2c21",
   "metadata": {},
   "source": [
    "### Run get_features()"
   ]
  },
  {
   "cell_type": "code",
   "execution_count": null,
   "id": "57341e7f-cbbf-4692-bf14-87464bdb8025",
   "metadata": {
    "tags": []
   },
   "outputs": [],
   "source": [
    "features, weather, recent_prices, gen_by_fuel_month, recent_greenness = get_features.get_features()\n",
    "features\n"
   ]
  },
  {
   "cell_type": "code",
   "execution_count": null,
   "id": "6da48cee-b504-4831-9b4c-7c0a5d4d817e",
   "metadata": {},
   "outputs": [],
   "source": [
    "[x for x in features.keys() if '' in x]"
   ]
  },
  {
   "cell_type": "code",
   "execution_count": null,
   "id": "28c5e147-0b73-4a21-83b6-86f53f0e0170",
   "metadata": {},
   "outputs": [],
   "source": [
    "with open('test_features.json', 'w') as f:\n",
    "    json.dump(features, f)"
   ]
  },
  {
   "cell_type": "markdown",
   "id": "4dee9515-6c95-452b-a8ac-a31084088991",
   "metadata": {},
   "source": [
    "### Run get_greenness()"
   ]
  },
  {
   "cell_type": "code",
   "execution_count": null,
   "id": "bfbe1cdb-df42-4b3d-9c49-7b21d954188b",
   "metadata": {
    "tags": []
   },
   "outputs": [],
   "source": [
    "from aemo import get_duids\n",
    "duids = get_duids()\n",
    "greenness_features, greenness_inputs, recent_greenness = get_greenness.get_greenness(duids)\n",
    "greenness_month = recent_greenness"
   ]
  },
  {
   "cell_type": "code",
   "execution_count": null,
   "id": "3b376c70-d882-417b-9f79-e9de9b681f1a",
   "metadata": {},
   "outputs": [],
   "source": [
    "greenness_month"
   ]
  },
  {
   "cell_type": "code",
   "execution_count": null,
   "id": "6ef9d917-e654-4820-9885-54b9f2c05c44",
   "metadata": {},
   "outputs": [],
   "source": [
    "greenness_month.max()"
   ]
  },
  {
   "cell_type": "markdown",
   "id": "1e8f0b07-e548-49c5-bc3a-fa42d0d48e22",
   "metadata": {},
   "source": [
    "### Temp - highest_ever_greenness"
   ]
  },
  {
   "cell_type": "code",
   "execution_count": null,
   "id": "a5d59986-d40c-4fa2-8604-6ba63c368dc2",
   "metadata": {},
   "outputs": [],
   "source": [
    "greenness_month.idxmax()"
   ]
  },
  {
   "cell_type": "code",
   "execution_count": null,
   "id": "569321eb-11d3-425c-89b1-095e5ed2cfd4",
   "metadata": {},
   "outputs": [],
   "source": [
    "body = {\n",
    "    'NSW1': {'value': 74, 'utc': ''},\n",
    "    'QLD1': {'value': 70, 'utc': ''},\n",
    "    'SA1': {'value': 100, 'utc': ''},\n",
    "    'TAS1': {'value': 100, 'utc': ''},\n",
    "    'VIC1': {'value': 73,'utc': ''}, # was 70 from dataset8\n",
    "}\n",
    "\n",
    "s3 = boto3.resource('s3')\n",
    "bucket = s3.Bucket('greenforecast.forecaster')\n",
    "bucket.put_object(Key='highest_ever_greenness', Body=json.dumps(body))\n"
   ]
  },
  {
   "cell_type": "code",
   "execution_count": null,
   "id": "65ae41d4-b4b1-4408-afec-c8c266117c8c",
   "metadata": {},
   "outputs": [],
   "source": [
    "s3 = boto3.client('s3')\n",
    "response = s3.get_object(Bucket='greenforecast.forecaster', Key='highest_ever_greenness')\n"
   ]
  },
  {
   "cell_type": "code",
   "execution_count": null,
   "id": "3b9e0bef-8b49-4dd6-afeb-f37de831415f",
   "metadata": {},
   "outputs": [],
   "source": [
    "low = json.load(response['Body'])\n",
    "low"
   ]
  },
  {
   "cell_type": "code",
   "execution_count": null,
   "id": "b47d2c2c-a247-40cc-b515-5def47b69ecf",
   "metadata": {},
   "outputs": [],
   "source": [
    "low = {\n",
    "    'NSW1': {'value': 73, 'utc': nem_time_to_utc_string(pd.Timestamp('2022-10-28 10:50:00'))},\n",
    "    'QLD1': {'value': 64, 'utc': nem_time_to_utc_string(pd.Timestamp('2022-12-06 12:30:00'))},\n",
    "    'SA1': {'value': 100, 'utc': nem_time_to_utc_string(pd.Timestamp('2016-09-28 16:35:00'))},\n",
    "    'TAS1': {'value': 100, 'utc': nem_time_to_utc_string(pd.Timestamp('2013-05-03 07:25:00'))},\n",
    "    'VIC1': {'value': 72, 'utc': nem_time_to_utc_string(pd.Timestamp('2022-10-30 12:30:00'))},\n",
    "}"
   ]
  },
  {
   "cell_type": "code",
   "execution_count": null,
   "id": "93275301-9e5b-4937-8246-d5ec46dd504e",
   "metadata": {},
   "outputs": [],
   "source": [
    "low['NSW1']['value'] = 74"
   ]
  },
  {
   "cell_type": "code",
   "execution_count": null,
   "id": "0cd6c6df-da53-4d37-9e3b-770a9bd0ffc8",
   "metadata": {},
   "outputs": [],
   "source": [
    "bucket = boto3.resource('s3').Bucket('greenforecast.forecaster')\n",
    "bucket.put_object(Key='highest_ever_greenness', Body=json.dumps(low))"
   ]
  },
  {
   "cell_type": "code",
   "execution_count": null,
   "id": "911ed8aa-ed8c-4e38-9f00-606d1d8241ef",
   "metadata": {},
   "outputs": [],
   "source": [
    "nem_time_to_utc_string = forecaster.nem_time_to_utc_string\n",
    "\n",
    "def highest_ever_greenness(recent_greenness):\n",
    "    \"\"\"Get and return the record max greenness. \n",
    "\n",
    "    Reads stored state from S3, checks if new data has anything higher, then writes back to S3 and returns the dict result. Example format: \n",
    "    {'NSW1': {'value': 71, 'utc': '2022-11-20T01:00:00+00:00'},\n",
    "     'QLD1': {'value': 70, 'utc': '2022-11-20T01:00:00+00:00'},\n",
    "     'SA1': {'value': 100, 'utc': '2022-11-20T01:00:00+00:00'},\n",
    "     'TAS1': {'value': 100, 'utc': '2022-11-20T01:00:00+00:00'},\n",
    "     'VIC1': {'value': 73, 'utc': '2022-11-20T01:00:00+00:00'}}\n",
    "    \"\"\"\n",
    "\n",
    "    # grab current highest-ever from s3\n",
    "    s3 = boto3.client('s3')\n",
    "    response = s3.get_object(Bucket='greenforecast.forecaster', Key='highest_ever_greenness')\n",
    "    highest = json.load(response['Body'])\n",
    "\n",
    "    # compare against the new data, update if found a new winner\n",
    "    highest_recent = recent_greenness.max()\n",
    "    highest_recent_idx = recent_greenness.idxmax()\n",
    "    for region in REGIONIDS:\n",
    "        if highest_recent[f'{region}_Greenness'] > highest[region]['value']+0.5:\n",
    "            print(f\"New Highest Greenness for {region}: {highest_recent[f'{region}_Greenness']}\")\n",
    "            highest[region]['value'] = int(np.round(highest_recent[f'{region}_Greenness']))\n",
    "            highest[region]['utc'] = nem_time_to_utc_string(highest_recent_idx[f'{region}_Greenness'])\n",
    "\n",
    "    # write back to s3\n",
    "    bucket = boto3.resource('s3').Bucket('greenforecast.forecaster')\n",
    "    bucket.put_object(Key='highest_ever_greenness', Body=json.dumps(highest))\n",
    "\n",
    "    return highest\n",
    "highest_ever_greenness(recent_greenness)"
   ]
  },
  {
   "cell_type": "markdown",
   "id": "0c262e33-62b8-4698-84d3-ef1049f459eb",
   "metadata": {},
   "source": [
    "### Test Interpolate_forecasts\n",
    "assumes we have `features` from above"
   ]
  },
  {
   "cell_type": "code",
   "execution_count": null,
   "id": "6a84386f-cd68-4cc3-baa3-a1b4cd424c44",
   "metadata": {
    "tags": []
   },
   "outputs": [],
   "source": [
    "FORECASTS_TO_MAKE = [f\"{region}_{price_or_greenness}\" for region in REGIONIDS for price_or_greenness in ['Price', 'Greenness']]\n",
    "base_time = pd.Timestamp.now(tz='Australia/Brisbane').round('H').tz_localize(tz=None)\n",
    "\n",
    "# make forecasts\n",
    "forecasts = {}\n",
    "for fc in FORECASTS_TO_MAKE:\n",
    "    forecasts[fc] = inference.make_forecast(fc, features)\n",
    "\n",
    "forecast_data, forecast_gen_by_fuel = forecaster.interpolate_forecasts(base_time, forecasts)\n",
    "forecast_data"
   ]
  },
  {
   "cell_type": "markdown",
   "id": "b9f69c12-de41-42fe-b28a-96004b620447",
   "metadata": {},
   "source": [
    "### Download `latest_forecasts.json` from S3 to website folder\n",
    "Overwrites `../website/latest_forecasts.json`"
   ]
  },
  {
   "cell_type": "code",
   "execution_count": null,
   "id": "3b75f3e6-44fe-40a3-80ae-309e2e52ea68",
   "metadata": {},
   "outputs": [],
   "source": [
    "with open('../website/latest_forecasts.json', 'w') as f:\n",
    "    r = requests.get('https://greenforecast.au/latest_forecasts.json')\n",
    "    f.write(r.text)"
   ]
  },
  {
   "cell_type": "markdown",
   "id": "568035a8-ce63-45a6-8c4b-a45b21688a4e",
   "metadata": {},
   "source": [
    "### Download `latest_forecasts.json` from test S3 bucket\n",
    "Overwrites `../website/latest_forecasts.json`"
   ]
  },
  {
   "cell_type": "code",
   "execution_count": null,
   "id": "d302af1e-e20a-4236-97fa-5802d86be3fa",
   "metadata": {},
   "outputs": [],
   "source": [
    "with open('../website/latest_forecasts.json', 'w') as f:\n",
    "    r = requests.get('https://s3.ap-southeast-2.amazonaws.com/greenforecast.test/latest_forecasts.json')\n",
    "    f.write(r.text)"
   ]
  },
  {
   "cell_type": "markdown",
   "id": "e4241e30-0d37-41f6-8239-cd35b18a25b6",
   "metadata": {},
   "source": [
    "-----------"
   ]
  },
  {
   "cell_type": "markdown",
   "id": "91f0322e-12e2-45b1-a155-41d3c7a1894c",
   "metadata": {},
   "source": [
    "### Get latest file from grenforecast.history"
   ]
  },
  {
   "cell_type": "code",
   "execution_count": null,
   "id": "ddf59f53-0a48-43dd-bd5e-0ca2b6040221",
   "metadata": {},
   "outputs": [],
   "source": [
    "get_key = \"aws s3api list-objects-v2 --bucket 'greenforecast.history' --query 'sort_by(Contents, &LastModified)[-1].Key' --output=text\"\n",
    "key = subprocess.run(get_key, capture_output=True, shell=True)\n",
    "key = key.stdout[:-1].decode('utf-8')\n",
    "\n",
    "s3_client = boto3.client('s3')\n",
    "res = s3_client.get_object(Bucket='greenforecast.history', Key=key)\n",
    "features_and_predictions = json.load(res['Body'])\n",
    "\n",
    "features = features_and_predictions['features']\n",
    "predictions = features_and_predictions['predictions']\n",
    "inteprolated = features_and_predictions['forecasts']"
   ]
  },
  {
   "cell_type": "code",
   "execution_count": null,
   "id": "2af5d531-10ba-411d-98a7-f69932e7b2e3",
   "metadata": {
    "tags": []
   },
   "outputs": [],
   "source": [
    "{key: val for key, val in sorted(features.items()) if 'QLD1' in key}"
   ]
  },
  {
   "cell_type": "markdown",
   "id": "b7c4ee6c-65b5-44d0-a693-22503c1efc0a",
   "metadata": {},
   "source": [
    "### Get Mock Data"
   ]
  },
  {
   "cell_type": "code",
   "execution_count": null,
   "id": "f6905ca0-21a1-48e7-b3b2-33a699977710",
   "metadata": {},
   "outputs": [],
   "source": [
    "# get mock data for forecasts for test other code\n",
    "with open('test_latest_forecasts.json') as f:\n",
    "    mock_latest_forecasts = json.load(f)\n",
    "forecasts = mock_latest_forecasts['forecasts']\n",
    "\n",
    "with open('test_get_recent_data.pkl', 'rb') as f:\n",
    "    base_time, features, recent_prices, recent_greenness = pickle.load(f)\n"
   ]
  },
  {
   "cell_type": "code",
   "execution_count": null,
   "id": "d97e66e3-a17e-4d3b-90aa-414fbacfe5e7",
   "metadata": {},
   "outputs": [],
   "source": [
    "def test_get_features():\n",
    "    # base_time is the (rounded) time when this forecast was made... will actually be a little past the hour. \n",
    "    base_time = pd.Timestamp.now(tz='Australia/Brisbane').round('H').tz_localize(tz=None)\n",
    "\n",
    "    # collect all the current data \n",
    "    features, weather_data, recent_prices, recent_greenness = get_features.get_features()\n",
    "    print(f\"got {len(features)} features\")\n",
    "\n",
    "    print(format_weather(base_time, weather_data))"
   ]
  },
  {
   "cell_type": "markdown",
   "id": "aaa22dad-dfda-45bd-ba01-bf7f6f783ef3",
   "metadata": {},
   "source": [
    "### test get_recent_data()\n",
    "`test_get_recent_data.pkl` is written by get_features.py if that's run directly (`python get_features.py`)"
   ]
  },
  {
   "cell_type": "code",
   "execution_count": null,
   "id": "650bfbc4-5351-4066-ab4d-2104286346cb",
   "metadata": {
    "tags": []
   },
   "outputs": [],
   "source": [
    "with open('test_get_recent_data.pkl', 'rb') as f:\n",
    "    base_time, features, recent_prices, recent_greenness = pickle.load(f)\n",
    "\n",
    "df = forecaster.get_recent_data(base_time, features, recent_prices, recent_greenness)\n",
    "df"
   ]
  },
  {
   "cell_type": "markdown",
   "id": "dab63eea-fd9e-467b-9adf-7d470d7f8215",
   "metadata": {},
   "source": [
    "### Check greenness_last_day.csv on S3 (OBSOLETE)"
   ]
  },
  {
   "cell_type": "code",
   "execution_count": null,
   "id": "0175fca8-9251-4113-9970-25ea1123588d",
   "metadata": {},
   "outputs": [],
   "source": [
    "# Get the last 24h of Greenness because it's missing from greenness_month \n",
    "# get file from from S3\n",
    "s3_client = boto3.client('s3')\n",
    "res = s3_client.get_object(Bucket='greenforecast.au', Key='greenness_last_day.csv')\n",
    "greenness_last_day = pd.read_csv(res['Body'], index_col='SETTLEMENTDATE', parse_dates=['SETTLEMENTDATE'])\n",
    "greenness_last_day"
   ]
  },
  {
   "cell_type": "markdown",
   "id": "9cb77b98-eb5c-458b-a4a9-10ecec883267",
   "metadata": {},
   "source": [
    "### Maximums"
   ]
  },
  {
   "cell_type": "code",
   "execution_count": null,
   "id": "2d877502-7bc0-4ad5-8533-c211a789b9c3",
   "metadata": {},
   "outputs": [],
   "source": [
    "with open('test_day_maxs.pkl', 'rb') as f:\n",
    "    base_time, past_data, forecast_data = pickle.load(f)\n",
    "day_maxs(base_time, past_data, forecast_data)"
   ]
  },
  {
   "cell_type": "markdown",
   "id": "bb9ee67d-d64e-4ab4-98f7-05a21f298fc8",
   "metadata": {},
   "source": [
    "# Temp"
   ]
  },
  {
   "cell_type": "code",
   "execution_count": null,
   "id": "8979ae85-90e1-4dc6-a1b0-60ba7d206837",
   "metadata": {},
   "outputs": [],
   "source": []
  }
 ],
 "metadata": {
  "kernelspec": {
   "display_name": "Python 3 (ipykernel)",
   "language": "python",
   "name": "python3"
  },
  "language_info": {
   "codemirror_mode": {
    "name": "ipython",
    "version": 3
   },
   "file_extension": ".py",
   "mimetype": "text/x-python",
   "name": "python",
   "nbconvert_exporter": "python",
   "pygments_lexer": "ipython3",
   "version": "3.9.12"
  }
 },
 "nbformat": 4,
 "nbformat_minor": 5
}
